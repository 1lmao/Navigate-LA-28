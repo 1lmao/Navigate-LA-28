{
 "cells": [
  {
   "cell_type": "code",
   "execution_count": 3,
   "id": "ba7934b5-8025-45f8-8305-b774233ee276",
   "metadata": {},
   "outputs": [
    {
     "name": "stdout",
     "output_type": "stream",
     "text": [
      "                                            the_geom  OBJECTID  \\\n",
      "0  MULTIPOLYGON (((6471422.288662225 1844939.9790...         1   \n",
      "1  MULTIPOLYGON (((6500787.340168223 1859321.8698...         2   \n",
      "2  MULTIPOLYGON (((6472631.947332144 1730074.5188...         3   \n",
      "3  MULTIPOLYGON (((6466238.625801221 1841571.8154...         4   \n",
      "4  MULTIPOLYGON (((6488198.180635303 1800434.2537...         5   \n",
      "\n",
      "                            Address                               Name  \n",
      "0    3400 W Wilshire Blvd, LA 90010  ROBERT F KENNEDY PARK (LAUSD) JUA  \n",
      "1      4702 N Figueroa St, LA 90042                SYCAMORE GROVE PARK  \n",
      "2  451 N Gaffey St, San Pedro 90731             SAN PEDRO WELCOME PARK  \n",
      "3        1015 S Wilton Pl, LA 90018   COUNTRY CLUB PARK HERITAGE PLAZA  \n",
      "4   1780 E Santa Ana Blvd, LA 90002            WATTS CULTURAL CRESCENT  \n"
     ]
    }
   ],
   "source": [
    "import pandas as pd\n",
    "\n",
    "# Replace 'your_file.csv' with the path to your CSV file\n",
    "file_path = '/Users/ajitsingh/Downloads/Parks_20241116.csv'\n",
    "\n",
    "# Read the CSV file into a DataFrame\n",
    "data = pd.read_csv(file_path)\n",
    "\n",
    "# Display the first few rows of the DataFrame\n",
    "print(data.head())\n"
   ]
  },
  {
   "cell_type": "code",
   "execution_count": 5,
   "id": "dde45f68-7764-49bd-81c4-04ed42c4eed0",
   "metadata": {},
   "outputs": [
    {
     "name": "stdout",
     "output_type": "stream",
     "text": [
      "Requirement already satisfied: shapely in /opt/homebrew/Cellar/jupyterlab/4.3.1/libexec/lib/python3.12/site-packages (2.0.6)\n",
      "Requirement already satisfied: numpy<3,>=1.14 in /opt/homebrew/Cellar/jupyterlab/4.3.1/libexec/lib/python3.12/site-packages (from shapely) (2.1.3)\n",
      "\n",
      "\u001b[1m[\u001b[0m\u001b[34;49mnotice\u001b[0m\u001b[1;39;49m]\u001b[0m\u001b[39;49m A new release of pip is available: \u001b[0m\u001b[31;49m24.2\u001b[0m\u001b[39;49m -> \u001b[0m\u001b[32;49m24.3.1\u001b[0m\n",
      "\u001b[1m[\u001b[0m\u001b[34;49mnotice\u001b[0m\u001b[1;39;49m]\u001b[0m\u001b[39;49m To update, run: \u001b[0m\u001b[32;49m/opt/homebrew/Cellar/jupyterlab/4.3.1/libexec/bin/python -m pip install --upgrade pip\u001b[0m\n",
      "Note: you may need to restart the kernel to use updated packages.\n"
     ]
    }
   ],
   "source": [
    "pip install shapely\n"
   ]
  },
  {
   "cell_type": "code",
   "execution_count": 7,
   "id": "1012fee0-9c43-43d2-b7ae-46adceaa53ae",
   "metadata": {},
   "outputs": [
    {
     "name": "stdout",
     "output_type": "stream",
     "text": [
      "Updated CSV saved with centroids in: /Users/ajitsingh/Downloads/Parks_20241116.csv\n"
     ]
    }
   ],
   "source": [
    "import pandas as pd\n",
    "import geopandas as gpd\n",
    "from shapely import wkt\n",
    "\n",
    "# File path\n",
    "file_path = \"/Users/ajitsingh/Downloads/Parks_20241116.csv\"\n",
    "\n",
    "# Load the CSV file into a Pandas DataFrame\n",
    "df = pd.read_csv(file_path)\n",
    "\n",
    "# Parse the 'thegeom' column into geometries using Shapely\n",
    "df['geometry'] = df['the_geom'].apply(wkt.loads)\n",
    "\n",
    "# Convert to GeoDataFrame for spatial operations\n",
    "gdf = gpd.GeoDataFrame(df, geometry='geometry')\n",
    "\n",
    "# Calculate centroids for each MULTIPOLYGON\n",
    "gdf['centroid'] = gdf['geometry'].centroid\n",
    "\n",
    "# Save the centroids back into the CSV as a new column\n",
    "# Convert centroids (geometry objects) to WKT for saving\n",
    "gdf['centroid'] = gdf['centroid'].apply(lambda x: x.wkt)\n",
    "\n",
    "# Save the updated CSV file\n",
    "# Ensure write permissions before saving\n",
    "import os\n",
    "\n",
    "os.chmod(file_path, 0o666)  # Grant write permission to the file\n",
    "gdf.to_csv(file_path, index=False)\n",
    "\n",
    "print(f\"Updated CSV saved with centroids in: {file_path}\")\n"
   ]
  },
  {
   "cell_type": "code",
   "execution_count": 8,
   "id": "74f6e6b6-325d-485e-9e02-5599544b155f",
   "metadata": {},
   "outputs": [
    {
     "name": "stdout",
     "output_type": "stream",
     "text": [
      "                                            the_geom  OBJECTID  \\\n",
      "0  MULTIPOLYGON (((6471422.288662225 1844939.9790...         1   \n",
      "1  MULTIPOLYGON (((6500787.340168223 1859321.8698...         2   \n",
      "2  MULTIPOLYGON (((6472631.947332144 1730074.5188...         3   \n",
      "3  MULTIPOLYGON (((6466238.625801221 1841571.8154...         4   \n",
      "4  MULTIPOLYGON (((6488198.180635303 1800434.2537...         5   \n",
      "\n",
      "                            Address                               Name  \\\n",
      "0    3400 W Wilshire Blvd, LA 90010  ROBERT F KENNEDY PARK (LAUSD) JUA   \n",
      "1      4702 N Figueroa St, LA 90042                SYCAMORE GROVE PARK   \n",
      "2  451 N Gaffey St, San Pedro 90731             SAN PEDRO WELCOME PARK   \n",
      "3        1015 S Wilton Pl, LA 90018   COUNTRY CLUB PARK HERITAGE PLAZA   \n",
      "4   1780 E Santa Ana Blvd, LA 90002            WATTS CULTURAL CRESCENT   \n",
      "\n",
      "                                            geometry  \\\n",
      "0  MULTIPOLYGON (((6471422.288662225 1844939.9790...   \n",
      "1  MULTIPOLYGON (((6500787.340168223 1859321.8698...   \n",
      "2  MULTIPOLYGON (((6472631.947332144 1730074.5188...   \n",
      "3  MULTIPOLYGON (((6466238.625801221 1841571.8154...   \n",
      "4  MULTIPOLYGON (((6488198.180635303 1800434.2537...   \n",
      "\n",
      "                                       centroid  \n",
      "0   POINT (6471564.030404883 1844929.584576088)  \n",
      "1    POINT (6500207.31435681 1858860.863631504)  \n",
      "2  POINT (6472699.818472803 1730151.3048380578)  \n",
      "3   POINT (6466306.17864533 1841587.7713045601)  \n",
      "4   POINT (6488577.870775466 1800254.848451663)  \n"
     ]
    }
   ],
   "source": [
    "data = pd.read_csv(file_path)\n",
    "\n",
    "# Display the first few rows of the DataFrame\n",
    "print(data.head())"
   ]
  },
  {
   "cell_type": "code",
   "execution_count": 9,
   "id": "b4daed5e-bd3e-4fb8-86ce-3ab062e73029",
   "metadata": {},
   "outputs": [
    {
     "name": "stdout",
     "output_type": "stream",
     "text": [
      "   STOPNUM                             STOPNAME        LAT        LONG  \\\n",
      "0        1                  Paramount / Slauson  33.973248 -118.113113   \n",
      "1        3                     Jefferson / 10th  34.025471 -118.328402   \n",
      "2        6           120th / Augustus F Hawkins  33.924696 -118.242222   \n",
      "3        7  120th / Martin Luther King Hospital  33.924505 -118.240369   \n",
      "4       12                    15054 Sherman Way  34.201075 -118.461953   \n",
      "\n",
      "  LINE_DIR1 LINE_DIR2  LINE_DIR3  LINE_DIR4  LINE_DIR5  LINE_DIR6  LINE_DIR7  \\\n",
      "0     265-S      None          0          0          0          0          0   \n",
      "1      35-N      None          0          0          0          0          0   \n",
      "2      53-N     120-W          0          0          0          0          0   \n",
      "3      53-N     120-E          0          0          0          0          0   \n",
      "4     162-E      None          0          0          0          0          0   \n",
      "\n",
      "   LINE_DIR8  LINE_DIR9  LINE_DIR10  LINE_DIR11  LINE_DIR12  LINE_DIR13  \\\n",
      "0          0          0           0           0           0           0   \n",
      "1          0          0           0           0           0           0   \n",
      "2          0          0           0           0           0           0   \n",
      "3          0          0           0           0           0           0   \n",
      "4          0          0           0           0           0           0   \n",
      "\n",
      "   LINE_DIR14                     geometry  \n",
      "0           0  POINT (-118.11311 33.97325)  \n",
      "1           0   POINT (-118.3284 34.02547)  \n",
      "2           0   POINT (-118.24222 33.9247)  \n",
      "3           0   POINT (-118.24037 33.9245)  \n",
      "4           0  POINT (-118.46195 34.20108)  \n"
     ]
    }
   ],
   "source": [
    "import geopandas as gpd\n",
    "\n",
    "# File path to your shapefile\n",
    "shapefile_path = \"/Users/ajitsingh/Downloads/StopServingLines0624/StopServingLines0624.shp\"\n",
    "\n",
    "# Load the shapefile into a GeoDataFrame\n",
    "gdf = gpd.read_file(shapefile_path)\n",
    "\n",
    "# Display the first few rows of the data\n",
    "print(gdf.head())\n"
   ]
  },
  {
   "cell_type": "code",
   "execution_count": 10,
   "id": "05effba8-01d8-4bdb-b4f3-1161e57de794",
   "metadata": {},
   "outputs": [
    {
     "name": "stdout",
     "output_type": "stream",
     "text": [
      "Unique values in each column:\n",
      "STOPNUM       12017\n",
      "STOPNAME       6853\n",
      "LAT           11604\n",
      "LONG          11648\n",
      "LINE_DIR1       220\n",
      "LINE_DIR2       212\n",
      "LINE_DIR3         1\n",
      "LINE_DIR4         1\n",
      "LINE_DIR5         1\n",
      "LINE_DIR6         1\n",
      "LINE_DIR7         1\n",
      "LINE_DIR8         1\n",
      "LINE_DIR9         1\n",
      "LINE_DIR10        1\n",
      "LINE_DIR11        1\n",
      "LINE_DIR12        1\n",
      "LINE_DIR13        1\n",
      "LINE_DIR14        1\n",
      "geometry      12017\n",
      "dtype: int64\n"
     ]
    }
   ],
   "source": [
    "unique_counts = gdf.nunique()\n",
    "\n",
    "# Display the results\n",
    "print(\"Unique values in each column:\")\n",
    "print(unique_counts)"
   ]
  },
  {
   "cell_type": "code",
   "execution_count": 11,
   "id": "fd477122-7d52-4e98-9f5c-a4414a9efddb",
   "metadata": {},
   "outputs": [
    {
     "name": "stdout",
     "output_type": "stream",
     "text": [
      "   STOPNUM  LINE DIR                    STOPNAME        LAT        LONG  \\\n",
      "0        1   265   S         Paramount / Slauson  33.973248 -118.113113   \n",
      "1        3    35   N            Jefferson / 10th  34.025471 -118.328402   \n",
      "2        6    53   N  120th / Augustus F Hawkins  33.924696 -118.242222   \n",
      "3        6   120   W  120th / Augustus F Hawkins  33.924696 -118.242222   \n",
      "4        6    55   N  120th / Augustus F Hawkins  33.924696 -118.242222   \n",
      "\n",
      "                      geometry  \n",
      "0  POINT (-118.11311 33.97325)  \n",
      "1   POINT (-118.3284 34.02547)  \n",
      "2   POINT (-118.24222 33.9247)  \n",
      "3   POINT (-118.24222 33.9247)  \n",
      "4   POINT (-118.24222 33.9247)  \n"
     ]
    }
   ],
   "source": [
    "import geopandas as gpd\n",
    "\n",
    "# File path to your shapefile\n",
    "shapefile_path = \"/Users/ajitsingh/Downloads/LineServingStops0624/LineServingStops0624.shp\"\n",
    "\n",
    "# Load the shapefile into a GeoDataFrame\n",
    "gdf = gpd.read_file(shapefile_path)\n",
    "\n",
    "# Display the first few rows of the data\n",
    "print(gdf.head())\n"
   ]
  },
  {
   "cell_type": "code",
   "execution_count": 12,
   "id": "d99422b0-8df3-47ad-9e28-4f257b09e182",
   "metadata": {},
   "outputs": [
    {
     "name": "stdout",
     "output_type": "stream",
     "text": [
      "Unique values in each column:\n",
      "STOPNUM     12017\n",
      "LINE          111\n",
      "DIR             5\n",
      "STOPNAME     6853\n",
      "LAT         11604\n",
      "LONG        11648\n",
      "geometry    12017\n",
      "dtype: int64\n"
     ]
    }
   ],
   "source": [
    "unique_counts = gdf.nunique()\n",
    "\n",
    "# Display the results\n",
    "print(\"Unique values in each column:\")\n",
    "print(unique_counts)"
   ]
  },
  {
   "cell_type": "code",
   "execution_count": 5,
   "id": "7f527d5f-e203-47d9-956b-3b7e70c14ef5",
   "metadata": {},
   "outputs": [
    {
     "name": "stdout",
     "output_type": "stream",
     "text": [
      "                                            name   latitude   longitude  \\\n",
      "0                                       Restroom  34.121234 -118.273405   \n",
      "1  Montecito Recreation Center Publilc Restrooms  34.095676 -118.203282   \n",
      "2                                Public Restroom  34.063169 -118.355015   \n",
      "3                               Public Restrooms  34.072879 -118.429334   \n",
      "4                                      Restrooms  34.090192 -118.194260   \n",
      "\n",
      "                                             address  \\\n",
      "0  4400 Crystal Springs Dr, Los Angeles, CA 90027...   \n",
      "1               Los Angeles, CA 90031, United States   \n",
      "2  675 S Curson Ave, Los Angeles, CA 90036, Unite...   \n",
      "3  601 Club View Dr, Los Angeles, CA 90024, Unite...   \n",
      "4               Los Angeles, CA 90031, United States   \n",
      "\n",
      "                              types  \n",
      "0  point_of_interest, establishment  \n",
      "1  point_of_interest, establishment  \n",
      "2  point_of_interest, establishment  \n",
      "3  point_of_interest, establishment  \n",
      "4  point_of_interest, establishment  \n"
     ]
    }
   ],
   "source": [
    "import pandas as pd\n",
    "\n",
    "# Replace 'your_file.csv' with the path to your CSV file\n",
    "file_path = '/Users/ajitsingh/Downloads/all_restrooms.csv'\n",
    "\n",
    "# Read the CSV file into a DataFrame\n",
    "data = pd.read_csv(file_path)\n",
    "\n",
    "# Display the first few rows of the DataFrame\n",
    "print(data.head())"
   ]
  },
  {
   "cell_type": "code",
   "execution_count": 2,
   "id": "c970891d-40f5-4531-a1d3-19d732c5e669",
   "metadata": {},
   "outputs": [],
   "source": [
    "import os\n",
    "\n",
    "os.environ['PYSPARK_PYTHON'] = '/opt/homebrew/bin/python3.12'\n",
    "os.environ['PYSPARK_DRIVER_PYTHON'] = '/opt/homebrew/bin/python3.12'\n"
   ]
  },
  {
   "cell_type": "code",
   "execution_count": 4,
   "id": "8eb5aa4c-8ff4-44da-80af-ad5217212cc2",
   "metadata": {},
   "outputs": [
    {
     "name": "stdout",
     "output_type": "stream",
     "text": [
      "+------------------------+----------+------------+-------------------------------------------------------------------------------------+-------------------+\n",
      "|name                    |latitude  |longitude   |address                                                                              |distance           |\n",
      "+------------------------+----------+------------+-------------------------------------------------------------------------------------+-------------------+\n",
      "|Kyoto Garden            |34.0503082|-118.2428167|DoubleTree by Hilton Hotel Los Angeles Downtown, Los Angeles, CA 90012, United States|0.14206760214216416|\n",
      "|Los Angeles             |34.0549076|-118.242643 |Los Angeles, CA, USA                                                                 |0.19402085363448718|\n",
      "|Bradbury Building       |34.050604 |-118.2478573|304 S Broadway, Los Angeles, CA 90013, United States                                 |0.2642048871391549 |\n",
      "|Grand Central Market    |34.050872 |-118.2490552|317 S Broadway, Los Angeles, CA 90013, United States                                 |0.3216374484943321 |\n",
      "|Gloria Molina Grand Park|34.0563289|-118.2467713|200 N Grand Ave, Los Angeles, CA 90012, United States                                |0.33356677381962185|\n",
      "+------------------------+----------+------------+-------------------------------------------------------------------------------------+-------------------+\n",
      "\n"
     ]
    }
   ],
   "source": [
    "import pandas as pd\n",
    "from pyspark.sql import SparkSession\n",
    "\n",
    "# Initialize Spark Session\n",
    "spark = SparkSession.builder \\\n",
    "    .appName(\"NearestPlacesFinder\") \\\n",
    "    .getOrCreate()\n",
    "\n",
    "# Load dataset using pandas\n",
    "file_path = \"/Users/ajitsingh/Downloads/all_places.csv\"\n",
    "places_pd = pd.read_csv(file_path)\n",
    "\n",
    "# Convert pandas DataFrame to Spark DataFrame\n",
    "places_spark_df = spark.createDataFrame(places_pd)\n",
    "\n",
    "# Register the Spark DataFrame as a temporary SQL view\n",
    "places_spark_df.createOrReplaceTempView(\"places\")\n",
    "\n",
    "# Function to find n nearest places\n",
    "def find_nearest_places(x, y, n):\n",
    "    \"\"\"\n",
    "    Finds n nearest places from a given point (x, y) using Spark SQL.\n",
    "\n",
    "    :param x: Latitude of the reference point\n",
    "    :param y: Longitude of the reference point\n",
    "    :param n: Number of nearest locations to return\n",
    "    :return: Spark DataFrame with n nearest places\n",
    "    \"\"\"\n",
    "    # Haversine formula for distance calculation and sorting\n",
    "    query = f\"\"\"\n",
    "    SELECT name, latitude, longitude, address,\n",
    "           (3958.8 * acos(\n",
    "               cos(radians({x})) * cos(radians(latitude)) *\n",
    "               cos(radians(longitude) - radians({y})) +\n",
    "               sin(radians({x})) * sin(radians(latitude))\n",
    "           )) AS distance\n",
    "    FROM places\n",
    "    ORDER BY distance ASC\n",
    "    LIMIT {n}\n",
    "    \"\"\"\n",
    "    # Execute query\n",
    "    result_df = spark.sql(query)\n",
    "    return result_df\n",
    "\n",
    "# Example usage\n",
    "x = 34.052235  # Latitude of the reference point\n",
    "y = -118.243683  # Longitude of the reference point\n",
    "n = 5  # Number of nearest places to find\n",
    "\n",
    "nearest_places_df = find_nearest_places(x, y, n)\n",
    "\n",
    "# Show the results\n",
    "nearest_places_df.show(truncate=False)\n"
   ]
  },
  {
   "cell_type": "code",
   "execution_count": 6,
   "id": "218f187f-1e45-4878-8087-dbb57d4705df",
   "metadata": {},
   "outputs": [],
   "source": [
    "def find_nearest_restrooms(x, y, n=5):\n",
    "    \"\"\"\n",
    "    Finds the n nearest restrooms from a given point (x, y) in miles using Spark SQL.\n",
    "\n",
    "    :param x: Latitude of the reference point\n",
    "    :param y: Longitude of the reference point\n",
    "    :param n: Number of nearest restrooms to return (default is 5)\n",
    "    :return: Spark DataFrame with n nearest restrooms\n",
    "    \"\"\"\n",
    "    # Load the restroom dataset into a Spark DataFrame\n",
    "    restrooms_path = \"/Users/ajitsingh/Downloads/all_restrooms.csv\"\n",
    "    restrooms_pd = pd.read_csv(restrooms_path)\n",
    "    restrooms_spark_df = spark.createDataFrame(restrooms_pd)\n",
    "\n",
    "    # Register the DataFrame as a temporary view\n",
    "    restrooms_spark_df.createOrReplaceTempView(\"restrooms\")\n",
    "\n",
    "    # SQL query to calculate distance and find the nearest restrooms\n",
    "    query = f\"\"\"\n",
    "    SELECT name, latitude, longitude, address,\n",
    "           (3958.8 * acos(\n",
    "               cos(radians({x})) * cos(radians(latitude)) *\n",
    "               cos(radians(longitude) - radians({y})) +\n",
    "               sin(radians({x})) * sin(radians(latitude))\n",
    "           )) AS distance\n",
    "    FROM restrooms\n",
    "    ORDER BY distance ASC\n",
    "    LIMIT {n}\n",
    "    \"\"\"\n",
    "    # Execute the query and return the result DataFrame\n",
    "    result_df = spark.sql(query)\n",
    "    return result_df\n"
   ]
  },
  {
   "cell_type": "code",
   "execution_count": 7,
   "id": "c74f968d-4297-4f50-8faf-8603fd3a267e",
   "metadata": {},
   "outputs": [
    {
     "name": "stdout",
     "output_type": "stream",
     "text": [
      "+------------------------------------+----------+------------+-----------------------------------------------------------+------------------+\n",
      "|name                                |latitude  |longitude   |address                                                    |distance          |\n",
      "+------------------------------------+----------+------------+-----------------------------------------------------------+------------------+\n",
      "|Public restrooms                    |34.0458554|-118.2475242|200 E 5th St, Los Angeles, CA 90013, United States         |0.4926007555304344|\n",
      "|Quick Porta Potty Rental Los Angeles|34.0488477|-118.2514257|448 S Hill St #1952, Los Angeles, CA 90013, United States  |0.5012450350672278|\n",
      "|Public Toilet                       |34.0447736|-118.2479689|560s S Los Angeles St, Los Angeles, CA 90013, United States|0.5709492966931093|\n",
      "|PayRestroom                         |34.0655648|-118.2374584|452 Gin Ling Wy, Los Angeles, CA 90012, United States      |0.9875299461117298|\n",
      "|Santee Alley                        |34.0378628|-118.2530134|945 Wall St, Los Angeles, CA 90015, United States          |1.1275910102430933|\n",
      "+------------------------------------+----------+------------+-----------------------------------------------------------+------------------+\n",
      "\n"
     ]
    }
   ],
   "source": [
    "x = 34.052235  # Latitude of the reference point\n",
    "y = -118.243683  # Longitude of the reference point\n",
    "\n",
    "nearest_restrooms_df = find_nearest_restrooms(x, y)\n",
    "nearest_restrooms_df.show(truncate=False)\n"
   ]
  },
  {
   "cell_type": "code",
   "execution_count": 3,
   "id": "cd70f907-4cad-49b9-b678-029fc9f0ad7a",
   "metadata": {},
   "outputs": [],
   "source": [
    "import geopandas as gpd\n",
    "from shapely.geometry import Point\n",
    "\n",
    "def find_bus_stop_pairs_with_same_line_using_geometry(shapefile_path, x1, y1, x2, y2, radius=2):\n",
    "    \"\"\"\n",
    "    Finds pairs of bus stops with the same line number for a route between two points within a specified radius.\n",
    "    If no such pairs are found, it will print a message stating that no direct routes exist.\n",
    "\n",
    "    :param shapefile_path: Path to the shapefile with bus stop data.\n",
    "    :param x1: Latitude of the departure point.\n",
    "    :param y1: Longitude of the departure point.\n",
    "    :param x2: Latitude of the arrival point.\n",
    "    :param y2: Longitude of the arrival point.\n",
    "    :param radius: Radius in miles to consider bus stops near the given points (default: 2 miles).\n",
    "    :return: GeoDataFrame with valid departure and arrival bus stop pairs and their distances or a message if no matches.\n",
    "    \"\"\"\n",
    "    # Load the shapefile into a GeoDataFrame\n",
    "    gdf = gpd.read_file(shapefile_path)\n",
    "\n",
    "    # Create geometry points for the input coordinates\n",
    "    dep_point = Point(y1, x1)  # Note: GeoPandas uses (x, y) = (lon, lat)\n",
    "    arr_point = Point(y2, x2)\n",
    "\n",
    "    # Buffer the points to create circular areas of the given radius in miles\n",
    "    dep_buffer = dep_point.buffer(radius / 3963.0)  # Convert radius to degrees (approx for Earth)\n",
    "    arr_buffer = arr_point.buffer(radius / 3963.0)\n",
    "\n",
    "    # Find departure stops within the departure buffer\n",
    "    departure_stops = gdf[gdf[\"geometry\"].within(dep_buffer)]\n",
    "\n",
    "    # Find arrival stops within the arrival buffer\n",
    "    arrival_stops = gdf[gdf[\"geometry\"].within(arr_buffer)]\n",
    "\n",
    "    # Join departure and arrival stops based on the same line number\n",
    "    matched_stops = departure_stops.merge(\n",
    "        arrival_stops,\n",
    "        on=\"LINE\",\n",
    "        suffixes=(\"_dep\", \"_arr\")\n",
    "    )\n",
    "\n",
    "    # Check if there are any matches\n",
    "    if matched_stops.empty:\n",
    "        print(\"No direct route found between the two points within the 2-mile radius.\")\n",
    "        return None\n",
    "\n",
    "    # Calculate distances between departure and arrival stops\n",
    "    matched_stops[\"distance_dep_to_arr\"] = matched_stops.apply(\n",
    "        lambda row: row.geometry_dep.distance(row.geometry_arr) * 3963.0,  # Convert to miles\n",
    "        axis=1\n",
    "    )\n",
    "\n",
    "    # Filter to include only relevant columns for the matched line\n",
    "    result = matched_stops[[\n",
    "        \"LINE\",\n",
    "        \"STOPNUM_dep\", \"STOPNAME_dep\", \"LAT_dep\", \"LONG_dep\", \"distance_dep_to_arr\",\n",
    "        \"STOPNUM_arr\", \"STOPNAME_arr\", \"LAT_arr\", \"LONG_arr\"\n",
    "    ]]\n",
    "\n",
    "    # Sort by distance and drop duplicates (if necessary)\n",
    "    result = result.sort_values(\"distance_dep_to_arr\").drop_duplicates(subset=[\"LINE\"])\n",
    "\n",
    "    return result"
   ]
  },
  {
   "cell_type": "code",
   "execution_count": 4,
   "id": "3f38991a-0045-435c-9739-d09ff43ec756",
   "metadata": {},
   "outputs": [
    {
     "name": "stdout",
     "output_type": "stream",
     "text": [
      "No direct route found between the two points within the 2-mile radius.\n"
     ]
    }
   ],
   "source": [
    "shapefile_path = \"/Users/ajitsingh/Downloads/LineServingStops0624/LineServingStops0624.shp\"\n",
    "x1, y1 = 33.91299,-118.23198   # Departure point (latitude, longitude)\n",
    "x2, y2 = 33.91280, -118.23012   # Arrival point (latitude, longitude)\n",
    "\n",
    "result = find_bus_stop_pairs_with_same_line_using_geometry(shapefile_path, x1, y1, x2, y2)\n",
    "\n",
    "if result is not None:\n",
    "    print(result)\n"
   ]
  },
  {
   "cell_type": "code",
   "execution_count": null,
   "id": "03b941b4-d9f1-44a1-8c0f-ecd65b522ff4",
   "metadata": {},
   "outputs": [],
   "source": []
  },
  {
   "cell_type": "code",
   "execution_count": null,
   "id": "84e4e8e4-ff54-4950-bed9-e2b132d6a974",
   "metadata": {},
   "outputs": [],
   "source": []
  },
  {
   "cell_type": "code",
   "execution_count": 1,
   "id": "4263b670-1a45-425a-bc48-7a73ae208671",
   "metadata": {},
   "outputs": [],
   "source": [
    "import math\n",
    "\n",
    "def generate_coordinates_n_miles_from_point(lat, lon, n, num_points=5):\n",
    "    \"\"\"\n",
    "    Generate coordinates exactly n miles from the given point in different directions.\n",
    "\n",
    "    :param lat: Latitude of the center point.\n",
    "    :param lon: Longitude of the center point.\n",
    "    :param n: Distance in miles.\n",
    "    :param num_points: Number of points to generate (default: 5).\n",
    "    :return: List of tuples containing (latitude, longitude).\n",
    "    \"\"\"\n",
    "    # Earth's radius in miles\n",
    "    earth_radius = 3963.0\n",
    "\n",
    "    # Directions (angles in radians): equally spaced around the circle\n",
    "    angles = [2 * math.pi * i / num_points for i in range(num_points)]\n",
    "\n",
    "    # Generate points\n",
    "    coordinates = []\n",
    "    for angle in angles:\n",
    "        # Calculate new latitude\n",
    "        new_lat = lat + (n / earth_radius) * math.degrees(math.cos(angle))\n",
    "        # Calculate new longitude\n",
    "        new_lon = lon + (n / earth_radius) * math.degrees(math.sin(angle) / math.cos(math.radians(lat)))\n",
    "        coordinates.append((new_lat, new_lon))\n",
    "\n",
    "    return coordinates"
   ]
  },
  {
   "cell_type": "code",
   "execution_count": 2,
   "id": "0c774ec6-aa2f-4eb1-8823-3a60e491fac9",
   "metadata": {},
   "outputs": [
    {
     "name": "stdout",
     "output_type": "stream",
     "text": [
      "Coordinates exactly 2 miles from the given point:\n",
      "(33.938962678403506, -118.240369)\n",
      "(33.92897266832589, -118.22379813275384)\n",
      "(33.912808492472365, -118.23012764081881)\n",
      "(33.912808492472365, -118.2506103591812)\n",
      "(33.92897266832589, -118.25693986724616)\n"
     ]
    }
   ],
   "source": [
    "cter_lat = 33.924505  # Latitude of the given point\n",
    "center_lon = -118.240369  # Longitude of the given point\n",
    "distance_in_miles = 1  # Distance from the center point in miles\n",
    "\n",
    "result_coordinates = generate_coordinates_n_miles_from_point(cter_lat, center_lon, distance_in_miles)\n",
    "print(\"Coordinates exactly 2 miles from the given point:\")\n",
    "for coord in result_coordinates:\n",
    "    print(coord)"
   ]
  },
  {
   "cell_type": "code",
   "execution_count": 10,
   "id": "0c28bc8e-344d-493f-ba8a-3eaacd00cc9d",
   "metadata": {},
   "outputs": [
    {
     "name": "stdout",
     "output_type": "stream",
     "text": [
      "    STOPNUM  LINE DIR                             STOPNAME        LAT  \\\n",
      "0         1   265   S                  Paramount / Slauson  33.973248   \n",
      "1         3    35   N                     Jefferson / 10th  34.025471   \n",
      "2         6    53   N           120th / Augustus F Hawkins  33.924696   \n",
      "3         6   120   W           120th / Augustus F Hawkins  33.924696   \n",
      "4         6    55   N           120th / Augustus F Hawkins  33.924696   \n",
      "5         6    53   S           120th / Augustus F Hawkins  33.924696   \n",
      "6         7    53   N  120th / Martin Luther King Hospital  33.924505   \n",
      "7         7   120   E  120th / Martin Luther King Hospital  33.924505   \n",
      "8         7    55   S  120th / Martin Luther King Hospital  33.924505   \n",
      "9        12   162   E                    15054 Sherman Way  34.201075   \n",
      "10       16    96   N                Riverside / Los Feliz  34.116932   \n",
      "11       18   106   S                        1st / Eastern  34.036881   \n",
      "12       19   665   S                    Indiana / Olympic  34.018999   \n",
      "13       25    62   N                      226th / Norwalk  33.823987   \n",
      "14       25    62   S                      226th / Norwalk  33.823987   \n",
      "15       29    33   E                   2nd / Santa Monica  34.015028   \n",
      "16       31    16   E                        3rd / Gardner  34.070240   \n",
      "17       33   236   N           Balboa / Foothill West Jog  34.322084   \n",
      "18       38     4   E                       5th / Colorado  34.013884   \n",
      "19       38   720   W                       5th / Colorado  34.013884   \n",
      "20       38   720   E                       5th / Colorado  34.013884   \n",
      "21       38    20   W                       5th / Colorado  34.013884   \n",
      "22       38    20   E                       5th / Colorado  34.013884   \n",
      "23       38     4   W                       5th / Colorado  34.013884   \n",
      "24       40    10   W                           Hill / 5th  34.048591   \n",
      "25       40    94   N                           Hill / 5th  34.048591   \n",
      "26       40    81   N                           Hill / 5th  34.048591   \n",
      "27       40    28   E                           Hill / 5th  34.048591   \n",
      "28       42    18   W                     6th / Burlington  34.057874   \n",
      "29       47   234   N                         7th / Maclay  34.293980   \n",
      "\n",
      "          LONG                     geometry  \n",
      "0  -118.113113  POINT (-118.11311 33.97325)  \n",
      "1  -118.328402   POINT (-118.3284 34.02547)  \n",
      "2  -118.242222   POINT (-118.24222 33.9247)  \n",
      "3  -118.242222   POINT (-118.24222 33.9247)  \n",
      "4  -118.242222   POINT (-118.24222 33.9247)  \n",
      "5  -118.242222   POINT (-118.24222 33.9247)  \n",
      "6  -118.240369   POINT (-118.24037 33.9245)  \n",
      "7  -118.240369   POINT (-118.24037 33.9245)  \n",
      "8  -118.240369   POINT (-118.24037 33.9245)  \n",
      "9  -118.461953  POINT (-118.46195 34.20108)  \n",
      "10 -118.271486  POINT (-118.27149 34.11693)  \n",
      "11 -118.173232  POINT (-118.17323 34.03688)  \n",
      "12 -118.192361    POINT (-118.19236 34.019)  \n",
      "13 -118.072255  POINT (-118.07226 33.82399)  \n",
      "14 -118.072255  POINT (-118.07226 33.82399)  \n",
      "15 -118.497346  POINT (-118.49735 34.01503)  \n",
      "16 -118.353264  POINT (-118.35326 34.07024)  \n",
      "17 -118.495243  POINT (-118.49524 34.32208)  \n",
      "18 -118.490199   POINT (-118.4902 34.01388)  \n",
      "19 -118.490199   POINT (-118.4902 34.01388)  \n",
      "20 -118.490199   POINT (-118.4902 34.01388)  \n",
      "21 -118.490199   POINT (-118.4902 34.01388)  \n",
      "22 -118.490199   POINT (-118.4902 34.01388)  \n",
      "23 -118.490199   POINT (-118.4902 34.01388)  \n",
      "24 -118.251764  POINT (-118.25176 34.04859)  \n",
      "25 -118.251764  POINT (-118.25176 34.04859)  \n",
      "26 -118.251764  POINT (-118.25176 34.04859)  \n",
      "27 -118.251764  POINT (-118.25176 34.04859)  \n",
      "28 -118.270776  POINT (-118.27078 34.05787)  \n",
      "29 -118.427206  POINT (-118.42721 34.29398)  \n"
     ]
    }
   ],
   "source": [
    "import geopandas as gpd\n",
    "\n",
    "# Path to the shapefile\n",
    "shapefile_path = \"/Users/ajitsingh/Downloads/LineServingStops0624/LineServingStops0624.shp\"\n",
    "\n",
    "# Read the shapefile into a GeoDataFrame\n",
    "gdf = gpd.read_file(shapefile_path)\n",
    "\n",
    "# Display the top 30 rows\n",
    "print(gdf.head(30))\n"
   ]
  },
  {
   "cell_type": "code",
   "execution_count": 6,
   "id": "fb2a61b6-93f7-4b8e-a615-a84b1976c45d",
   "metadata": {},
   "outputs": [
    {
     "ename": "AttributeError",
     "evalue": "'DataFrame' object has no attribute 'to_file'",
     "output_type": "error",
     "traceback": [
      "\u001b[0;31m---------------------------------------------------------------------------\u001b[0m",
      "\u001b[0;31mAttributeError\u001b[0m                            Traceback (most recent call last)",
      "\u001b[0;32m/var/folders/tq/11x_4qtd021fc63b_j873k5r0000gn/T/ipykernel_11047/993096790.py\u001b[0m in \u001b[0;36m?\u001b[0;34m()\u001b[0m\n\u001b[1;32m     28\u001b[0m \u001b[0minput_shapefile\u001b[0m \u001b[0;34m=\u001b[0m \u001b[0;34m\"/Users/ajitsingh/Downloads/LineServingStops0624/LineServingStops0624.shp\"\u001b[0m\u001b[0;34m\u001b[0m\u001b[0;34m\u001b[0m\u001b[0m\n\u001b[1;32m     29\u001b[0m \u001b[0moutput_shapefile\u001b[0m \u001b[0;34m=\u001b[0m \u001b[0;34m\"/Users/ajitsingh/Downloads/LineServingStops0624/LineServingStops0624_modified.shp\"\u001b[0m\u001b[0;34m\u001b[0m\u001b[0;34m\u001b[0m\u001b[0m\n\u001b[1;32m     30\u001b[0m \u001b[0;34m\u001b[0m\u001b[0m\n\u001b[1;32m     31\u001b[0m \u001b[0;31m# Drop geometry and re-save\u001b[0m\u001b[0;34m\u001b[0m\u001b[0;34m\u001b[0m\u001b[0m\n\u001b[0;32m---> 32\u001b[0;31m \u001b[0mdrop_geometry_and_resave_shapefile\u001b[0m\u001b[0;34m(\u001b[0m\u001b[0minput_shapefile\u001b[0m\u001b[0;34m,\u001b[0m \u001b[0moutput_shapefile\u001b[0m\u001b[0;34m)\u001b[0m\u001b[0;34m\u001b[0m\u001b[0;34m\u001b[0m\u001b[0m\n\u001b[0m",
      "\u001b[0;32m/var/folders/tq/11x_4qtd021fc63b_j873k5r0000gn/T/ipykernel_11047/993096790.py\u001b[0m in \u001b[0;36m?\u001b[0;34m(input_path, output_path)\u001b[0m\n\u001b[1;32m     19\u001b[0m     \u001b[0;32mif\u001b[0m \u001b[0;32mnot\u001b[0m \u001b[0mos\u001b[0m\u001b[0;34m.\u001b[0m\u001b[0mpath\u001b[0m\u001b[0;34m.\u001b[0m\u001b[0mexists\u001b[0m\u001b[0;34m(\u001b[0m\u001b[0mdir_name\u001b[0m\u001b[0;34m)\u001b[0m\u001b[0;34m:\u001b[0m\u001b[0;34m\u001b[0m\u001b[0;34m\u001b[0m\u001b[0m\n\u001b[1;32m     20\u001b[0m         \u001b[0mos\u001b[0m\u001b[0;34m.\u001b[0m\u001b[0mmakedirs\u001b[0m\u001b[0;34m(\u001b[0m\u001b[0mdir_name\u001b[0m\u001b[0;34m,\u001b[0m \u001b[0mexist_ok\u001b[0m\u001b[0;34m=\u001b[0m\u001b[0;32mTrue\u001b[0m\u001b[0;34m)\u001b[0m\u001b[0;34m\u001b[0m\u001b[0;34m\u001b[0m\u001b[0m\n\u001b[1;32m     21\u001b[0m \u001b[0;34m\u001b[0m\u001b[0m\n\u001b[1;32m     22\u001b[0m     \u001b[0;31m# Save the modified shapefile\u001b[0m\u001b[0;34m\u001b[0m\u001b[0;34m\u001b[0m\u001b[0m\n\u001b[0;32m---> 23\u001b[0;31m     \u001b[0mgdf\u001b[0m\u001b[0;34m.\u001b[0m\u001b[0mto_file\u001b[0m\u001b[0;34m(\u001b[0m\u001b[0moutput_path\u001b[0m\u001b[0;34m)\u001b[0m\u001b[0;34m\u001b[0m\u001b[0;34m\u001b[0m\u001b[0m\n\u001b[0m\u001b[1;32m     24\u001b[0m \u001b[0;34m\u001b[0m\u001b[0m\n\u001b[1;32m     25\u001b[0m     \u001b[0mprint\u001b[0m\u001b[0;34m(\u001b[0m\u001b[0;34mf\"\u001b[0m\u001b[0;34mModified shapefile saved to: \u001b[0m\u001b[0;34m{\u001b[0m\u001b[0moutput_path\u001b[0m\u001b[0;34m}\u001b[0m\u001b[0;34m\"\u001b[0m\u001b[0;34m)\u001b[0m\u001b[0;34m\u001b[0m\u001b[0;34m\u001b[0m\u001b[0m\n",
      "\u001b[0;32m/opt/homebrew/Cellar/jupyterlab/4.3.1/libexec/lib/python3.12/site-packages/pandas/core/generic.py\u001b[0m in \u001b[0;36m?\u001b[0;34m(self, name)\u001b[0m\n\u001b[1;32m   6295\u001b[0m             \u001b[0;32mand\u001b[0m \u001b[0mname\u001b[0m \u001b[0;32mnot\u001b[0m \u001b[0;32min\u001b[0m \u001b[0mself\u001b[0m\u001b[0;34m.\u001b[0m\u001b[0m_accessors\u001b[0m\u001b[0;34m\u001b[0m\u001b[0;34m\u001b[0m\u001b[0m\n\u001b[1;32m   6296\u001b[0m             \u001b[0;32mand\u001b[0m \u001b[0mself\u001b[0m\u001b[0;34m.\u001b[0m\u001b[0m_info_axis\u001b[0m\u001b[0;34m.\u001b[0m\u001b[0m_can_hold_identifiers_and_holds_name\u001b[0m\u001b[0;34m(\u001b[0m\u001b[0mname\u001b[0m\u001b[0;34m)\u001b[0m\u001b[0;34m\u001b[0m\u001b[0;34m\u001b[0m\u001b[0m\n\u001b[1;32m   6297\u001b[0m         \u001b[0;34m)\u001b[0m\u001b[0;34m:\u001b[0m\u001b[0;34m\u001b[0m\u001b[0;34m\u001b[0m\u001b[0m\n\u001b[1;32m   6298\u001b[0m             \u001b[0;32mreturn\u001b[0m \u001b[0mself\u001b[0m\u001b[0;34m[\u001b[0m\u001b[0mname\u001b[0m\u001b[0;34m]\u001b[0m\u001b[0;34m\u001b[0m\u001b[0;34m\u001b[0m\u001b[0m\n\u001b[0;32m-> 6299\u001b[0;31m         \u001b[0;32mreturn\u001b[0m \u001b[0mobject\u001b[0m\u001b[0;34m.\u001b[0m\u001b[0m__getattribute__\u001b[0m\u001b[0;34m(\u001b[0m\u001b[0mself\u001b[0m\u001b[0;34m,\u001b[0m \u001b[0mname\u001b[0m\u001b[0;34m)\u001b[0m\u001b[0;34m\u001b[0m\u001b[0;34m\u001b[0m\u001b[0m\n\u001b[0m",
      "\u001b[0;31mAttributeError\u001b[0m: 'DataFrame' object has no attribute 'to_file'"
     ]
    }
   ],
   "source": [
    "import geopandas as gpd\n",
    "import os\n",
    "\n",
    "def drop_geometry_and_resave_shapefile(input_path, output_path):\n",
    "    \"\"\"\n",
    "    Reads a shapefile, drops the geometry column, and saves the modified file.\n",
    "\n",
    "    :param input_path: Path to the input shapefile.\n",
    "    :param output_path: Path to save the modified shapefile.\n",
    "    \"\"\"\n",
    "    # Load the shapefile\n",
    "    gdf = gpd.read_file(input_path)\n",
    "\n",
    "    # Drop the geometry column\n",
    "    gdf = gdf.drop(columns=[\"geometry\"])\n",
    "\n",
    "    # Ensure permissions for saving\n",
    "    dir_name = os.path.dirname(output_path)\n",
    "    if not os.path.exists(dir_name):\n",
    "        os.makedirs(dir_name, exist_ok=True)\n",
    "\n",
    "    # Save the modified shapefile\n",
    "    gdf.to_file(output_path)\n",
    "\n",
    "    print(f\"Modified shapefile saved to: {output_path}\")\n",
    "\n",
    "# Define file paths\n",
    "input_shapefile = \"/Users/ajitsingh/Downloads/LineServingStops0624/LineServingStops0624.shp\"\n",
    "output_shapefile = \"/Users/ajitsingh/Downloads/LineServingStops0624/LineServingStops0624_modified.shp\"\n",
    "\n",
    "# Drop geometry and re-save\n",
    "drop_geometry_and_resave_shapefile(input_shapefile, output_shapefile)\n"
   ]
  },
  {
   "cell_type": "code",
   "execution_count": null,
   "id": "6a3326d9-9d4b-431d-801f-a6cde832ea47",
   "metadata": {},
   "outputs": [],
   "source": []
  }
 ],
 "metadata": {
  "kernelspec": {
   "display_name": "Python 3 (ipykernel)",
   "language": "python",
   "name": "python3"
  },
  "language_info": {
   "codemirror_mode": {
    "name": "ipython",
    "version": 3
   },
   "file_extension": ".py",
   "mimetype": "text/x-python",
   "name": "python",
   "nbconvert_exporter": "python",
   "pygments_lexer": "ipython3",
   "version": "3.12.7"
  }
 },
 "nbformat": 4,
 "nbformat_minor": 5
}
